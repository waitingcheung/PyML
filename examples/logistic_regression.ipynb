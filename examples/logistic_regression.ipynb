{
 "cells": [
  {
   "cell_type": "code",
   "execution_count": 1,
   "metadata": {
    "ExecuteTime": {
     "end_time": "2020-05-02T05:52:39.587015Z",
     "start_time": "2020-05-02T05:52:39.584466Z"
    }
   },
   "outputs": [],
   "source": [
    "import sys\n",
    "sys.path.insert(0, '..')"
   ]
  },
  {
   "cell_type": "code",
   "execution_count": 2,
   "metadata": {
    "ExecuteTime": {
     "end_time": "2020-05-02T05:52:40.063201Z",
     "start_time": "2020-05-02T05:52:39.590020Z"
    }
   },
   "outputs": [],
   "source": [
    "import matplotlib.pyplot as plt\n",
    "import numpy as np\n",
    "from sklearn.datasets import make_blobs\n",
    "from sklearn.model_selection import train_test_split\n",
    "\n",
    "from lib.logistic_regression import LogisticRegression"
   ]
  },
  {
   "cell_type": "code",
   "execution_count": 3,
   "metadata": {
    "ExecuteTime": {
     "end_time": "2020-05-02T05:52:40.069101Z",
     "start_time": "2020-05-02T05:52:40.065234Z"
    }
   },
   "outputs": [],
   "source": [
    "x, y = make_blobs(n_samples=80, centers=2, random_state=0)\n",
    "x_train, x_test, y_train, y_test = train_test_split(x, y, test_size=0.2, random_state=0)"
   ]
  },
  {
   "cell_type": "code",
   "execution_count": 4,
   "metadata": {
    "ExecuteTime": {
     "end_time": "2020-05-02T05:52:50.467707Z",
     "start_time": "2020-05-02T05:52:40.070989Z"
    }
   },
   "outputs": [
    {
     "name": "stdout",
     "output_type": "stream",
     "text": [
      "iter       0 \t loss   2.415\n",
      "iter   10000 \t loss   0.458\n",
      "iter   20000 \t loss   0.394\n",
      "iter   30000 \t loss   0.365\n",
      "iter   40000 \t loss   0.348\n",
      "iter   50000 \t loss   0.336\n",
      "iter   60000 \t loss   0.328\n",
      "iter   70000 \t loss   0.322\n",
      "iter   80000 \t loss   0.318\n",
      "iter   90000 \t loss   0.314\n",
      "iter  100000 \t loss   0.312\n",
      "iter  110000 \t loss   0.309\n",
      "iter  120000 \t loss   0.308\n",
      "iter  130000 \t loss   0.306\n",
      "iter  140000 \t loss   0.305\n",
      "iter  150000 \t loss   0.304\n",
      "iter  160000 \t loss   0.303\n",
      "iter  170000 \t loss   0.302\n",
      "iter  180000 \t loss   0.302\n",
      "iter  190000 \t loss   0.301\n",
      "iter  200000 \t loss   0.301\n",
      "iter  210000 \t loss   0.300\n",
      "iter  220000 \t loss   0.300\n",
      "iter  230000 \t loss   0.300\n",
      "iter  240000 \t loss   0.299\n",
      "iter  250000 \t loss   0.299\n",
      "iter  260000 \t loss   0.299\n",
      "iter  270000 \t loss   0.299\n",
      "iter  280000 \t loss   0.299\n",
      "iter  290000 \t loss   0.299\n",
      "iter  300000 \t loss   0.298\n"
     ]
    }
   ],
   "source": [
    "# create a logistic regression model\n",
    "model = LogisticRegression(verbose=True)\n",
    "model.fit(x_train, y_train)"
   ]
  },
  {
   "cell_type": "code",
   "execution_count": 5,
   "metadata": {
    "ExecuteTime": {
     "end_time": "2020-05-02T05:52:50.471932Z",
     "start_time": "2020-05-02T05:52:50.469012Z"
    }
   },
   "outputs": [
    {
     "name": "stdout",
     "output_type": "stream",
     "text": [
      "Accuracy: 0.9375\n"
     ]
    }
   ],
   "source": [
    "y_pred = model.predict(x_test)\n",
    "accuracy = model.accuracy(y_pred, y_test)\n",
    "print(f'Accuracy: {accuracy}')"
   ]
  },
  {
   "cell_type": "code",
   "execution_count": 6,
   "metadata": {
    "ExecuteTime": {
     "end_time": "2020-05-02T05:52:50.609787Z",
     "start_time": "2020-05-02T05:52:50.473359Z"
    }
   },
   "outputs": [
    {
     "data": {
      "image/png": "[encoded data removed]",
      "text/plain": [
       "<Figure size 576x432 with 1 Axes>"
      ]
     },
     "metadata": {
      "needs_background": "light"
     },
     "output_type": "display_data"
    }
   ],
   "source": [
    "# plot the results\n",
    "plt.figure(figsize=(8, 6))\n",
    "ax = plt.axes()\n",
    "\n",
    "x_values = [np.min(x_test[:, 1]), np.max(x_test[:, 1])]\n",
    "y_values = np.dot(-1. / model.weights[1], np.dot(model.weights[0], x_values))\n",
    "\n",
    "plt.scatter(x[:, 0], x[:, 1], c=y, cmap=plt.cm.Paired, edgecolor='black', s=20)\n",
    "plt.plot(x_values, y_values)\n",
    "\n",
    "plt.axis('tight')\n",
    "\n",
    "plt.show()"
   ]
  }
 ],
 "metadata": {
  "kernelspec": {
   "display_name": "Python 3.7.6 64-bit",
   "language": "python",
   "name": "python37664bit798c5bf16ace474185300b2bae120c5b"
  },
  "language_info": {
   "codemirror_mode": {
    "name": "ipython",
    "version": 3
   },
   "file_extension": ".py",
   "mimetype": "text/x-python",
   "name": "python",
   "nbconvert_exporter": "python",
   "pygments_lexer": "ipython3",
   "version": "3.7.6"
  },
  "toc": {
   "base_numbering": 1,
   "nav_menu": {},
   "number_sections": true,
   "sideBar": true,
   "skip_h1_title": false,
   "title_cell": "Table of Contents",
   "title_sidebar": "Contents",
   "toc_cell": false,
   "toc_position": {},
   "toc_section_display": true,
   "toc_window_display": false
  },
  "varInspector": {
   "cols": {
    "lenName": 16,
    "lenType": 16,
    "lenVar": 40
   },
   "kernels_config": {
    "python": {
     "delete_cmd_postfix": "",
     "delete_cmd_prefix": "del ",
     "library": "var_list.py",
     "varRefreshCmd": "print(var_dic_list())"
    },
    "r": {
     "delete_cmd_postfix": ") ",
     "delete_cmd_prefix": "rm(",
     "library": "var_list.r",
     "varRefreshCmd": "cat(var_dic_list()) "
    }
   },
   "types_to_exclude": [
    "module",
    "function",
    "builtin_function_or_method",
    "instance",
    "_Feature"
   ],
   "window_display": false
  }
 },
 "nbformat": 4,
 "nbformat_minor": 4
}
