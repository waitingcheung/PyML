{
 "cells": [
  {
   "cell_type": "code",
   "execution_count": 1,
   "metadata": {
    "ExecuteTime": {
     "end_time": "2020-05-10T10:38:36.160375Z",
     "start_time": "2020-05-10T10:38:36.157846Z"
    }
   },
   "outputs": [],
   "source": [
    "import sys\n",
    "sys.path.insert(0, '..')"
   ]
  },
  {
   "cell_type": "code",
   "execution_count": 2,
   "metadata": {
    "ExecuteTime": {
     "end_time": "2020-05-10T10:38:36.405730Z",
     "start_time": "2020-05-10T10:38:36.163056Z"
    }
   },
   "outputs": [],
   "source": [
    "import random\n",
    "\n",
    "import matplotlib.pyplot as plt\n",
    "import numpy as np\n",
    "\n",
    "from lib.linear_regression import LinearRegression"
   ]
  },
  {
   "cell_type": "code",
   "execution_count": 3,
   "metadata": {
    "ExecuteTime": {
     "end_time": "2020-05-10T10:38:36.410104Z",
     "start_time": "2020-05-10T10:38:36.407428Z"
    }
   },
   "outputs": [],
   "source": [
    "np.random.seed(seed=0)"
   ]
  },
  {
   "cell_type": "code",
   "execution_count": 4,
   "metadata": {
    "ExecuteTime": {
     "end_time": "2020-05-10T10:38:36.416537Z",
     "start_time": "2020-05-10T10:38:36.412316Z"
    }
   },
   "outputs": [],
   "source": [
    "# x from 0 to 30\n",
    "X = 30 * np.random.random((50, 1))\n",
    "\n",
    "# y = a*x + b with noise\n",
    "y = 0.5 * X + 1.0 + np.random.normal(size=X.shape)"
   ]
  },
  {
   "cell_type": "code",
   "execution_count": 5,
   "metadata": {
    "ExecuteTime": {
     "end_time": "2020-05-10T10:38:36.574053Z",
     "start_time": "2020-05-10T10:38:36.418481Z"
    }
   },
   "outputs": [
    {
     "data": {
      "image/png": "[encoded data removed]",
      "text/plain": [
       "<Figure size 432x288 with 1 Axes>"
      ]
     },
     "metadata": {
      "needs_background": "light"
     },
     "output_type": "display_data"
    }
   ],
   "source": [
    "plt.scatter(X, y, cmap=plt.cm.Paired, edgecolor='black', s=40)\n",
    "plt.show()"
   ]
  },
  {
   "cell_type": "code",
   "execution_count": 6,
   "metadata": {
    "ExecuteTime": {
     "end_time": "2020-05-10T10:38:38.032957Z",
     "start_time": "2020-05-10T10:38:36.575887Z"
    }
   },
   "outputs": [
    {
     "name": "stdout",
     "output_type": "stream",
     "text": [
      "iter       0 \t loss  21.967\n",
      "iter    1000 \t loss   0.491\n",
      "iter    2000 \t loss   0.470\n",
      "iter    3000 \t loss   0.456\n",
      "iter    4000 \t loss   0.446\n",
      "iter    5000 \t loss   0.440\n",
      "iter    6000 \t loss   0.436\n",
      "iter    7000 \t loss   0.433\n",
      "iter    8000 \t loss   0.431\n",
      "iter    9000 \t loss   0.430\n",
      "iter   10000 \t loss   0.429\n",
      "iter   11000 \t loss   0.429\n",
      "iter   12000 \t loss   0.428\n",
      "iter   13000 \t loss   0.428\n",
      "iter   14000 \t loss   0.428\n",
      "iter   15000 \t loss   0.428\n",
      "iter   16000 \t loss   0.428\n",
      "iter   17000 \t loss   0.428\n",
      "iter   18000 \t loss   0.428\n",
      "iter   19000 \t loss   0.428\n",
      "iter   20000 \t loss   0.428\n",
      "iter   21000 \t loss   0.428\n",
      "iter   22000 \t loss   0.428\n",
      "iter   23000 \t loss   0.428\n",
      "iter   24000 \t loss   0.428\n",
      "iter   25000 \t loss   0.428\n",
      "iter   26000 \t loss   0.428\n",
      "iter   27000 \t loss   0.428\n",
      "iter   28000 \t loss   0.428\n",
      "iter   29000 \t loss   0.428\n",
      "iter   30000 \t loss   0.428\n",
      "iter   31000 \t loss   0.428\n",
      "iter   32000 \t loss   0.428\n",
      "iter   33000 \t loss   0.428\n",
      "iter   34000 \t loss   0.428\n",
      "iter   35000 \t loss   0.428\n",
      "iter   36000 \t loss   0.428\n",
      "iter   37000 \t loss   0.428\n",
      "iter   38000 \t loss   0.428\n",
      "iter   39000 \t loss   0.428\n",
      "iter   40000 \t loss   0.428\n",
      "iter   41000 \t loss   0.428\n",
      "iter   42000 \t loss   0.428\n",
      "iter   43000 \t loss   0.428\n",
      "iter   44000 \t loss   0.428\n",
      "iter   45000 \t loss   0.428\n",
      "iter   46000 \t loss   0.428\n",
      "iter   47000 \t loss   0.428\n",
      "iter   48000 \t loss   0.428\n",
      "iter   49000 \t loss   0.428\n",
      "iter   50000 \t loss   0.428\n",
      "iter   51000 \t loss   0.428\n",
      "iter   52000 \t loss   0.428\n",
      "iter   53000 \t loss   0.428\n",
      "iter   54000 \t loss   0.428\n",
      "iter   55000 \t loss   0.428\n",
      "iter   56000 \t loss   0.428\n",
      "iter   57000 \t loss   0.428\n",
      "iter   58000 \t loss   0.428\n",
      "iter   59000 \t loss   0.428\n",
      "iter   60000 \t loss   0.428\n",
      "iter   61000 \t loss   0.428\n",
      "iter   62000 \t loss   0.428\n"
     ]
    }
   ],
   "source": [
    "# create a linear regression model\n",
    "model = LinearRegression(verbose=True)\n",
    "model.fit(X, y)"
   ]
  },
  {
   "cell_type": "code",
   "execution_count": 7,
   "metadata": {
    "ExecuteTime": {
     "end_time": "2020-05-10T10:38:38.040396Z",
     "start_time": "2020-05-10T10:38:38.036480Z"
    }
   },
   "outputs": [
    {
     "data": {
      "text/plain": [
       "array([0.4897579 , 0.99278719])"
      ]
     },
     "execution_count": 7,
     "metadata": {},
     "output_type": "execute_result"
    }
   ],
   "source": [
    "model.weights"
   ]
  },
  {
   "cell_type": "code",
   "execution_count": 8,
   "metadata": {
    "ExecuteTime": {
     "end_time": "2020-05-10T10:38:38.047442Z",
     "start_time": "2020-05-10T10:38:38.044269Z"
    }
   },
   "outputs": [],
   "source": [
    "# predict y from the data\n",
    "X_new = np.linspace(0, 30, 100)\n",
    "y_new = model.predict(X_new[:, np.newaxis])"
   ]
  },
  {
   "cell_type": "code",
   "execution_count": 9,
   "metadata": {
    "ExecuteTime": {
     "end_time": "2020-05-10T10:38:38.188080Z",
     "start_time": "2020-05-10T10:38:38.049595Z"
    }
   },
   "outputs": [
    {
     "data": {
      "image/png": "[encoded data removed]",
      "text/plain": [
       "<Figure size 432x288 with 1 Axes>"
      ]
     },
     "metadata": {
      "needs_background": "light"
     },
     "output_type": "display_data"
    }
   ],
   "source": [
    "# plot the results\n",
    "ax = plt.axes()\n",
    "\n",
    "ax.scatter(X, y, cmap=plt.cm.Paired, edgecolor='black', s=40)\n",
    "ax.plot(X_new, y_new, 'r')\n",
    "\n",
    "ax.axis('tight')\n",
    "\n",
    "plt.show()"
   ]
  }
 ],
 "metadata": {
  "file_extension": ".py",
  "kernelspec": {
   "display_name": "Python 3.7.6 64-bit",
   "language": "python",
   "name": "python37664bit798c5bf16ace474185300b2bae120c5b"
  },
  "language_info": {
   "codemirror_mode": {
    "name": "ipython",
    "version": 3
   },
   "file_extension": ".py",
   "mimetype": "text/x-python",
   "name": "python",
   "nbconvert_exporter": "python",
   "pygments_lexer": "ipython3",
   "version": "3.7.6"
  },
  "mimetype": "text/x-python",
  "name": "python",
  "npconvert_exporter": "python",
  "pygments_lexer": "ipython2",
  "toc": {
   "base_numbering": 1,
   "nav_menu": {},
   "number_sections": true,
   "sideBar": true,
   "skip_h1_title": false,
   "title_cell": "Table of Contents",
   "title_sidebar": "Contents",
   "toc_cell": false,
   "toc_position": {},
   "toc_section_display": true,
   "toc_window_display": false
  },
  "varInspector": {
   "cols": {
    "lenName": 16,
    "lenType": 16,
    "lenVar": 40
   },
   "kernels_config": {
    "python": {
     "delete_cmd_postfix": "",
     "delete_cmd_prefix": "del ",
     "library": "var_list.py",
     "varRefreshCmd": "print(var_dic_list())"
    },
    "r": {
     "delete_cmd_postfix": ") ",
     "delete_cmd_prefix": "rm(",
     "library": "var_list.r",
     "varRefreshCmd": "cat(var_dic_list()) "
    }
   },
   "types_to_exclude": [
    "module",
    "function",
    "builtin_function_or_method",
    "instance",
    "_Feature"
   ],
   "window_display": false
  },
  "version": 2
 },
 "nbformat": 4,
 "nbformat_minor": 2
}
