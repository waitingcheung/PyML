{
 "cells": [
  {
   "cell_type": "code",
   "execution_count": 1,
   "metadata": {
    "ExecuteTime": {
     "end_time": "2020-05-10T07:32:54.654893Z",
     "start_time": "2020-05-10T07:32:54.652295Z"
    }
   },
   "outputs": [],
   "source": [
    "import sys\n",
    "sys.path.insert(0, '..')"
   ]
  },
  {
   "cell_type": "code",
   "execution_count": 2,
   "metadata": {
    "ExecuteTime": {
     "end_time": "2020-05-10T07:32:54.862502Z",
     "start_time": "2020-05-10T07:32:54.657306Z"
    }
   },
   "outputs": [],
   "source": [
    "import random\n",
    "\n",
    "import matplotlib.pyplot as plt\n",
    "import numpy as np\n",
    "\n",
    "from lib.linear_regression import LinearRegression"
   ]
  },
  {
   "cell_type": "code",
   "execution_count": 3,
   "metadata": {
    "ExecuteTime": {
     "end_time": "2020-05-10T07:32:54.867071Z",
     "start_time": "2020-05-10T07:32:54.864464Z"
    }
   },
   "outputs": [],
   "source": [
    "np.random.seed(seed=0)"
   ]
  },
  {
   "cell_type": "code",
   "execution_count": 4,
   "metadata": {
    "ExecuteTime": {
     "end_time": "2020-05-10T07:32:54.872077Z",
     "start_time": "2020-05-10T07:32:54.869053Z"
    }
   },
   "outputs": [],
   "source": [
    "# x from 0 to 30\n",
    "X = 30 * np.random.random((50, 1))\n",
    "\n",
    "# y = a*x + b with noise\n",
    "y = 0.5 * X + 1.0 + np.random.normal(size=X.shape)"
   ]
  },
  {
   "cell_type": "code",
   "execution_count": 5,
   "metadata": {
    "ExecuteTime": {
     "end_time": "2020-05-10T07:32:55.028841Z",
     "start_time": "2020-05-10T07:32:54.873608Z"
    }
   },
   "outputs": [
    {
     "data": {
      "image/png": "[encoded data removed]",
      "text/plain": [
       "<Figure size 432x288 with 1 Axes>"
      ]
     },
     "metadata": {
      "needs_background": "light"
     },
     "output_type": "display_data"
    }
   ],
   "source": [
    "plt.scatter(X, y, cmap=plt.cm.Paired, edgecolor='black', s=40)\n",
    "plt.show()"
   ]
  },
  {
   "cell_type": "code",
   "execution_count": 6,
   "metadata": {
    "ExecuteTime": {
     "end_time": "2020-05-10T07:32:56.203235Z",
     "start_time": "2020-05-10T07:32:55.030629Z"
    }
   },
   "outputs": [
    {
     "name": "stdout",
     "output_type": "stream",
     "text": [
      "iter       0 \t weight   0.634 \t bias   1.982 \t loss  13.194\n",
      "iter    1000 \t weight   0.458 \t bias   1.645 \t loss   0.942\n",
      "iter    2000 \t weight   0.468 \t bias   1.427 \t loss   0.894\n",
      "iter    3000 \t weight   0.475 \t bias   1.282 \t loss   0.873\n",
      "iter    4000 \t weight   0.480 \t bias   1.185 \t loss   0.863\n",
      "iter    5000 \t weight   0.483 \t bias   1.121 \t loss   0.859\n",
      "iter    6000 \t weight   0.486 \t bias   1.078 \t loss   0.857\n",
      "iter    7000 \t weight   0.487 \t bias   1.050 \t loss   0.856\n",
      "iter    8000 \t weight   0.488 \t bias   1.031 \t loss   0.856\n",
      "iter    9000 \t weight   0.489 \t bias   1.018 \t loss   0.856\n",
      "iter   10000 \t weight   0.489 \t bias   1.010 \t loss   0.856\n",
      "iter   11000 \t weight   0.489 \t bias   1.004 \t loss   0.856\n",
      "iter   12000 \t weight   0.489 \t bias   1.000 \t loss   0.856\n",
      "iter   13000 \t weight   0.490 \t bias   0.998 \t loss   0.856\n",
      "iter   14000 \t weight   0.490 \t bias   0.996 \t loss   0.856\n",
      "iter   15000 \t weight   0.490 \t bias   0.995 \t loss   0.856\n",
      "iter   16000 \t weight   0.490 \t bias   0.994 \t loss   0.856\n",
      "iter   17000 \t weight   0.490 \t bias   0.994 \t loss   0.856\n",
      "iter   18000 \t weight   0.490 \t bias   0.993 \t loss   0.856\n",
      "iter   19000 \t weight   0.490 \t bias   0.993 \t loss   0.856\n",
      "iter   20000 \t weight   0.490 \t bias   0.993 \t loss   0.856\n",
      "iter   21000 \t weight   0.490 \t bias   0.993 \t loss   0.856\n",
      "iter   22000 \t weight   0.490 \t bias   0.993 \t loss   0.856\n",
      "iter   23000 \t weight   0.490 \t bias   0.993 \t loss   0.856\n",
      "iter   24000 \t weight   0.490 \t bias   0.993 \t loss   0.856\n",
      "iter   25000 \t weight   0.490 \t bias   0.993 \t loss   0.856\n",
      "iter   26000 \t weight   0.490 \t bias   0.993 \t loss   0.856\n",
      "iter   27000 \t weight   0.490 \t bias   0.993 \t loss   0.856\n",
      "iter   28000 \t weight   0.490 \t bias   0.993 \t loss   0.856\n",
      "iter   29000 \t weight   0.490 \t bias   0.993 \t loss   0.856\n",
      "iter   30000 \t weight   0.490 \t bias   0.993 \t loss   0.856\n",
      "iter   31000 \t weight   0.490 \t bias   0.993 \t loss   0.856\n",
      "iter   32000 \t weight   0.490 \t bias   0.993 \t loss   0.856\n"
     ]
    }
   ],
   "source": [
    "# create a linear regression model\n",
    "model = LinearRegression(verbose=True)\n",
    "model.fit(X, y)"
   ]
  },
  {
   "cell_type": "code",
   "execution_count": 7,
   "metadata": {
    "ExecuteTime": {
     "end_time": "2020-05-10T07:32:56.210506Z",
     "start_time": "2020-05-10T07:32:56.206975Z"
    }
   },
   "outputs": [],
   "source": [
    "# predict y from the data\n",
    "X_new = np.linspace(0, 30, 100)\n",
    "y_new = model.predict(X_new[:, np.newaxis])"
   ]
  },
  {
   "cell_type": "code",
   "execution_count": 8,
   "metadata": {
    "ExecuteTime": {
     "end_time": "2020-05-10T07:32:56.346405Z",
     "start_time": "2020-05-10T07:32:56.213652Z"
    }
   },
   "outputs": [
    {
     "data": {
      "image/png": "[encoded data removed]",
      "text/plain": [
       "<Figure size 432x288 with 1 Axes>"
      ]
     },
     "metadata": {
      "needs_background": "light"
     },
     "output_type": "display_data"
    }
   ],
   "source": [
    "# plot the results\n",
    "ax = plt.axes()\n",
    "\n",
    "ax.scatter(X, y, cmap=plt.cm.Paired, edgecolor='black', s=40)\n",
    "ax.plot(X_new, y_new, 'r')\n",
    "\n",
    "ax.axis('tight')\n",
    "\n",
    "plt.show()"
   ]
  }
 ],
 "metadata": {
  "file_extension": ".py",
  "kernelspec": {
   "display_name": "Python 3.7.6 64-bit",
   "language": "python",
   "name": "python37664bit798c5bf16ace474185300b2bae120c5b"
  },
  "language_info": {
   "codemirror_mode": {
    "name": "ipython",
    "version": 3
   },
   "file_extension": ".py",
   "mimetype": "text/x-python",
   "name": "python",
   "nbconvert_exporter": "python",
   "pygments_lexer": "ipython3",
   "version": "3.7.6"
  },
  "mimetype": "text/x-python",
  "name": "python",
  "npconvert_exporter": "python",
  "pygments_lexer": "ipython2",
  "toc": {
   "base_numbering": 1,
   "nav_menu": {},
   "number_sections": true,
   "sideBar": true,
   "skip_h1_title": false,
   "title_cell": "Table of Contents",
   "title_sidebar": "Contents",
   "toc_cell": false,
   "toc_position": {},
   "toc_section_display": true,
   "toc_window_display": false
  },
  "varInspector": {
   "cols": {
    "lenName": 16,
    "lenType": 16,
    "lenVar": 40
   },
   "kernels_config": {
    "python": {
     "delete_cmd_postfix": "",
     "delete_cmd_prefix": "del ",
     "library": "var_list.py",
     "varRefreshCmd": "print(var_dic_list())"
    },
    "r": {
     "delete_cmd_postfix": ") ",
     "delete_cmd_prefix": "rm(",
     "library": "var_list.r",
     "varRefreshCmd": "cat(var_dic_list()) "
    }
   },
   "types_to_exclude": [
    "module",
    "function",
    "builtin_function_or_method",
    "instance",
    "_Feature"
   ],
   "window_display": false
  },
  "version": 2
 },
 "nbformat": 4,
 "nbformat_minor": 2
}
